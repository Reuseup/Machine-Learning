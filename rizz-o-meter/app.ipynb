{
 "cells": [
  {
   "cell_type": "code",
   "execution_count": 1,
   "id": "46e73827-278b-4143-919c-9d016858e334",
   "metadata": {},
   "outputs": [
    {
     "data": {
      "text/plain": [
       "<flask_cors.extension.CORS at 0x2186f7550f0>"
      ]
     },
     "execution_count": 1,
     "metadata": {},
     "output_type": "execute_result"
    }
   ],
   "source": [
    "from flask import Flask, request, jsonify\n",
    "from flask_cors import CORS\n",
    "import pickle\n",
    "from sklearn.feature_extraction.text import TfidfVectorizer\n",
    "import re\n",
    "\n",
    "app = Flask(__name__)\n",
    "CORS(app)"
   ]
  },
  {
   "cell_type": "code",
   "execution_count": 2,
   "id": "14c747dd-8049-4a26-9f21-6d10f5d98c2e",
   "metadata": {},
   "outputs": [
    {
     "ename": "RuntimeError",
     "evalue": "Model atau TF-IDF Vectorizer tidak ditemukan. Pastikan Anda telah melatih dan menyimpannya.",
     "output_type": "error",
     "traceback": [
      "\u001b[1;31m---------------------------------------------------------------------------\u001b[0m",
      "\u001b[1;31mFileNotFoundError\u001b[0m                         Traceback (most recent call last)",
      "Cell \u001b[1;32mIn[2], line 3\u001b[0m\n\u001b[0;32m      2\u001b[0m \u001b[38;5;28;01mtry\u001b[39;00m:\n\u001b[1;32m----> 3\u001b[0m     \u001b[38;5;28;01mwith\u001b[39;00m \u001b[38;5;28;43mopen\u001b[39;49m\u001b[43m(\u001b[49m\u001b[38;5;124;43m'\u001b[39;49m\u001b[38;5;124;43mrizz_model.pkl\u001b[39;49m\u001b[38;5;124;43m'\u001b[39;49m\u001b[43m,\u001b[49m\u001b[43m \u001b[49m\u001b[38;5;124;43m'\u001b[39;49m\u001b[38;5;124;43mrb\u001b[39;49m\u001b[38;5;124;43m'\u001b[39;49m\u001b[43m)\u001b[49m \u001b[38;5;28;01mas\u001b[39;00m f:\n\u001b[0;32m      4\u001b[0m         model \u001b[38;5;241m=\u001b[39m pickle\u001b[38;5;241m.\u001b[39mload(f)\n",
      "File \u001b[1;32mC:\\laragon\\bin\\python\\python-3.10\\lib\\site-packages\\IPython\\core\\interactiveshell.py:324\u001b[0m, in \u001b[0;36m_modified_open\u001b[1;34m(file, *args, **kwargs)\u001b[0m\n\u001b[0;32m    318\u001b[0m     \u001b[38;5;28;01mraise\u001b[39;00m \u001b[38;5;167;01mValueError\u001b[39;00m(\n\u001b[0;32m    319\u001b[0m         \u001b[38;5;124mf\u001b[39m\u001b[38;5;124m\"\u001b[39m\u001b[38;5;124mIPython won\u001b[39m\u001b[38;5;124m'\u001b[39m\u001b[38;5;124mt let you open fd=\u001b[39m\u001b[38;5;132;01m{\u001b[39;00mfile\u001b[38;5;132;01m}\u001b[39;00m\u001b[38;5;124m by default \u001b[39m\u001b[38;5;124m\"\u001b[39m\n\u001b[0;32m    320\u001b[0m         \u001b[38;5;124m\"\u001b[39m\u001b[38;5;124mas it is likely to crash IPython. If you know what you are doing, \u001b[39m\u001b[38;5;124m\"\u001b[39m\n\u001b[0;32m    321\u001b[0m         \u001b[38;5;124m\"\u001b[39m\u001b[38;5;124myou can use builtins\u001b[39m\u001b[38;5;124m'\u001b[39m\u001b[38;5;124m open.\u001b[39m\u001b[38;5;124m\"\u001b[39m\n\u001b[0;32m    322\u001b[0m     )\n\u001b[1;32m--> 324\u001b[0m \u001b[38;5;28;01mreturn\u001b[39;00m io_open(file, \u001b[38;5;241m*\u001b[39margs, \u001b[38;5;241m*\u001b[39m\u001b[38;5;241m*\u001b[39mkwargs)\n",
      "\u001b[1;31mFileNotFoundError\u001b[0m: [Errno 2] No such file or directory: 'rizz_model.pkl'",
      "\nDuring handling of the above exception, another exception occurred:\n",
      "\u001b[1;31mRuntimeError\u001b[0m                              Traceback (most recent call last)",
      "Cell \u001b[1;32mIn[2], line 8\u001b[0m\n\u001b[0;32m      6\u001b[0m         tfidf_vectorizer \u001b[38;5;241m=\u001b[39m pickle\u001b[38;5;241m.\u001b[39mload(f)\n\u001b[0;32m      7\u001b[0m \u001b[38;5;28;01mexcept\u001b[39;00m \u001b[38;5;167;01mFileNotFoundError\u001b[39;00m:\n\u001b[1;32m----> 8\u001b[0m     \u001b[38;5;28;01mraise\u001b[39;00m \u001b[38;5;167;01mRuntimeError\u001b[39;00m(\u001b[38;5;124m\"\u001b[39m\u001b[38;5;124mModel atau TF-IDF Vectorizer tidak ditemukan. Pastikan Anda telah melatih dan menyimpannya.\u001b[39m\u001b[38;5;124m\"\u001b[39m)\n",
      "\u001b[1;31mRuntimeError\u001b[0m: Model atau TF-IDF Vectorizer tidak ditemukan. Pastikan Anda telah melatih dan menyimpannya."
     ]
    }
   ],
   "source": [
    "# Muat model dan TF-IDF Vectorizer (hanya sekali saat aplikasi dimulai)\n",
    "try:\n",
    "    with open('rizz_model.pkl', 'rb') as f:\n",
    "        model = pickle.load(f)\n",
    "    with open('tfidf_vectorizer.pkl', 'rb') as f:\n",
    "        tfidf_vectorizer = pickle.load(f)\n",
    "except FileNotFoundError:\n",
    "    raise RuntimeError(\"Model atau TF-IDF Vectorizer tidak ditemukan. Pastikan Anda telah melatih dan menyimpannya.\")"
   ]
  },
  {
   "cell_type": "code",
   "execution_count": null,
   "id": "5fef05f8-0b0c-40cd-beeb-2f38310c9e31",
   "metadata": {},
   "outputs": [],
   "source": [
    "# Fungsi untuk membersihkan teks\n",
    "def clean_text(text):\n",
    "    text = re.sub(r'[^\\w\\s]', '', text)\n",
    "    text = text.lower()\n",
    "    return text"
   ]
  },
  {
   "cell_type": "code",
   "execution_count": null,
   "id": "f49c3d43-bf42-4ccb-b5de-21440a636983",
   "metadata": {},
   "outputs": [],
   "source": [
    "# Fungsi untuk menggabungkan question dan answer\n",
    "def combine_text(question, answer):\n",
    "    question = clean_text(question)\n",
    "    answer = clean_text(answer)\n",
    "    return question + ' ' + answer"
   ]
  },
  {
   "cell_type": "code",
   "execution_count": null,
   "id": "b98ff90d-8027-4bfb-b9a8-659ba5385b34",
   "metadata": {},
   "outputs": [],
   "source": [
    "# Rute untuk halaman utama (/) dengan formulir input\n",
    "@app.route('/', methods=['GET'])\n",
    "def index():\n",
    "    return '''\n",
    "    <!DOCTYPE html>\n",
    "    <html>\n",
    "    <head>\n",
    "        <title>Rizz-O-Meter</title>\n",
    "    </head>\n",
    "    <body>\n",
    "        <h1>Rizz-O-Meter</h1>\n",
    "        <form method=\"POST\" action=\"/rizz\">\n",
    "            <textarea name=\"text\" placeholder=\"Masukkan teks di sini\" rows=\"4\" cols=\"50\"></textarea><br>\n",
    "            <input type=\"submit\" value=\"Prediksi Rizz\">\n",
    "        </form>\n",
    "    </body>\n",
    "    </html>\n",
    "    '''"
   ]
  },
  {
   "cell_type": "code",
   "execution_count": null,
   "id": "103b15a9-50c2-49f4-a0e9-6b047d22ae11",
   "metadata": {},
   "outputs": [],
   "source": [
    "# Rute untuk memproses prediksi (/rizz)\n",
    "@app.route('/rizz', methods=['POST'])\n",
    "def predict_rizz():\n",
    "    try:\n",
    "        text = request.form.get('text')  # Ambil teks dari formulir\n",
    "\n",
    "        # Validasi input teks\n",
    "        if not text:\n",
    "            return jsonify({'error': 'Teks tidak boleh kosong'}), 400\n",
    "\n",
    "        # Pra-pemrosesan teks\n",
    "        combined_text = combine_text(text, text)  # Menggabungkan teks dengan placeholder\n",
    "\n",
    "        # Debug: Tampilkan teks yang digabungkan\n",
    "        print(f\"Combined text for prediction: {combined_text}\")\n",
    "\n",
    "        # Transformasi teks menggunakan TF-IDF Vectorizer\n",
    "        text_tfidf = tfidf_vectorizer.transform([combined_text])\n",
    "\n",
    "        # Prediksi\n",
    "        prediction = model.predict(text_tfidf)[0]\n",
    "\n",
    "        # Debug: Tampilkan prediksi\n",
    "        print(f\"Predicted label: {prediction}\")\n",
    "\n",
    "        return jsonify({'rizz_level': prediction})\n",
    "    except Exception as e:\n",
    "        return jsonify({'error': str(e)}), 500"
   ]
  },
  {
   "cell_type": "code",
   "execution_count": null,
   "id": "9235a0b4-66f0-49ad-81c8-1b1d5bb8506d",
   "metadata": {},
   "outputs": [],
   "source": [
    "if __name__ == '__main__':\n",
    "    app.run(debug=True, port=7000)"
   ]
  }
 ],
 "metadata": {
  "kernelspec": {
   "display_name": "Python 3 (ipykernel)",
   "language": "python",
   "name": "python3"
  },
  "language_info": {
   "codemirror_mode": {
    "name": "ipython",
    "version": 3
   },
   "file_extension": ".py",
   "mimetype": "text/x-python",
   "name": "python",
   "nbconvert_exporter": "python",
   "pygments_lexer": "ipython3",
   "version": "3.10.6"
  }
 },
 "nbformat": 4,
 "nbformat_minor": 5
}
